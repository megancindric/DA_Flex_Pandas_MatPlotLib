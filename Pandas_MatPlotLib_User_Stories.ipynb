{
 "cells": [
  {
   "cell_type": "markdown",
   "metadata": {},
   "source": [
    "## Project: Visualizing Data with Pandas and MatPlotLib\n",
    "\n",
    "#### Insert project overview here :)\n",
    "* Analysis of 80000 records of UFO sightings across the globe\n",
    "* Will include cleaning of dataset, then filtering for relevant data\n",
    "* Will also include several different visualizations of data using MatPlotLib\n",
    "\n",
    "##### Analysis Question Ideas:\n",
    "* Breakdown of hour and frequency of sightings\n",
    "* Find correlation between shape and duration of sightings\n",
    "* Box chart of country breakdown OR of duration of sightings"
   ]
  },
  {
   "cell_type": "markdown",
   "metadata": {},
   "source": [
    "### As a Data Analyst, I want to set up the proper imports so I have access to the Pandas and MatPlotLib libraries"
   ]
  },
  {
   "cell_type": "code",
   "execution_count": 13,
   "metadata": {},
   "outputs": [],
   "source": [
    "import pandas as pd\n",
    "import matplotlib.pyplot as plt"
   ]
  },
  {
   "cell_type": "markdown",
   "metadata": {},
   "source": [
    "### As a Data Analyst, I want to import and store the `ufo_sightings.csv` file in a variable"
   ]
  },
  {
   "cell_type": "code",
   "execution_count": 14,
   "metadata": {},
   "outputs": [
    {
     "name": "stdout",
     "output_type": "stream",
     "text": [
      "<class 'pandas.core.frame.DataFrame'>\n",
      "Int64Index: 64683 entries, 0 to 65535\n",
      "Data columns (total 11 columns):\n",
      " #   Column               Non-Null Count  Dtype  \n",
      "---  ------               --------------  -----  \n",
      " 0   Date_Time            64683 non-null  object \n",
      " 1   City                 64683 non-null  object \n",
      " 2   State/Province       59973 non-null  object \n",
      " 3   Country              56927 non-null  object \n",
      " 4   UFO_Shape            63124 non-null  object \n",
      " 5   Length_of_Encounter  64683 non-null  float64\n",
      " 6   Described_Duration   64683 non-null  object \n",
      " 7   Description          64668 non-null  object \n",
      " 8   Date_Documented      64683 non-null  object \n",
      " 9   Latitude             64683 non-null  float64\n",
      " 10  Longitude            64683 non-null  float64\n",
      "dtypes: float64(3), object(8)\n",
      "memory usage: 5.9+ MB\n"
     ]
    }
   ],
   "source": [
    "ufo_df = pd.read_csv(\"ufo_sightings1.csv\", index_col=\"#\")\n",
    "ufo_df.info()"
   ]
  },
  {
   "cell_type": "markdown",
   "metadata": {},
   "source": [
    "### As a Data Analyst, I want to ensure my DataFrame is cleaned by removing any **null** or **duplicate** values"
   ]
  },
  {
   "cell_type": "code",
   "execution_count": 25,
   "metadata": {},
   "outputs": [
    {
     "name": "stdout",
     "output_type": "stream",
     "text": [
      "<class 'pandas.core.frame.DataFrame'>\n",
      "Int64Index: 64683 entries, 0 to 65535\n",
      "Data columns (total 11 columns):\n",
      " #   Column               Non-Null Count  Dtype  \n",
      "---  ------               --------------  -----  \n",
      " 0   Date_Time            64683 non-null  object \n",
      " 1   City                 64683 non-null  object \n",
      " 2   State/Province       59973 non-null  object \n",
      " 3   Country              56927 non-null  object \n",
      " 4   UFO_Shape            63124 non-null  object \n",
      " 5   Length_of_Encounter  64683 non-null  float64\n",
      " 6   Described_Duration   64683 non-null  object \n",
      " 7   Description          64668 non-null  object \n",
      " 8   Date_Documented      64683 non-null  object \n",
      " 9   Latitude             64683 non-null  float64\n",
      " 10  Longitude            64683 non-null  float64\n",
      "dtypes: float64(3), object(8)\n",
      "memory usage: 5.9+ MB\n",
      "<class 'pandas.core.frame.DataFrame'>\n",
      "Int64Index: 53562 entries, 0 to 65535\n",
      "Data columns (total 11 columns):\n",
      " #   Column               Non-Null Count  Dtype  \n",
      "---  ------               --------------  -----  \n",
      " 0   Date_Time            53562 non-null  object \n",
      " 1   City                 53562 non-null  object \n",
      " 2   State/Province       53562 non-null  object \n",
      " 3   Country              53562 non-null  object \n",
      " 4   UFO_Shape            53562 non-null  object \n",
      " 5   Length_of_Encounter  53562 non-null  float64\n",
      " 6   Described_Duration   53562 non-null  object \n",
      " 7   Description          53562 non-null  object \n",
      " 8   Date_Documented      53562 non-null  object \n",
      " 9   Latitude             53562 non-null  float64\n",
      " 10  Longitude            53562 non-null  float64\n",
      "dtypes: float64(3), object(8)\n",
      "memory usage: 4.9+ MB\n"
     ]
    }
   ],
   "source": [
    "ufo_df.info()\n",
    "nonnull_df = ufo_df.dropna()\n",
    "nonnull_df.info()"
   ]
  },
  {
   "cell_type": "markdown",
   "metadata": {},
   "source": [
    "### As a Data Analyst, I want to filter my existing DataFrame to remove any irrelevant information\n",
    "* This will include **dropping** the **Described_Duration, Description, and Date_Documented** columns"
   ]
  },
  {
   "cell_type": "code",
   "execution_count": 16,
   "metadata": {},
   "outputs": [
    {
     "data": {
      "text/html": [
       "<div>\n",
       "<style scoped>\n",
       "    .dataframe tbody tr th:only-of-type {\n",
       "        vertical-align: middle;\n",
       "    }\n",
       "\n",
       "    .dataframe tbody tr th {\n",
       "        vertical-align: top;\n",
       "    }\n",
       "\n",
       "    .dataframe thead th {\n",
       "        text-align: right;\n",
       "    }\n",
       "</style>\n",
       "<table border=\"1\" class=\"dataframe\">\n",
       "  <thead>\n",
       "    <tr style=\"text-align: right;\">\n",
       "      <th></th>\n",
       "      <th>Date_Time</th>\n",
       "      <th>City</th>\n",
       "      <th>State/Province</th>\n",
       "      <th>Country</th>\n",
       "      <th>UFO_Shape</th>\n",
       "      <th>Length_of_Encounter</th>\n",
       "      <th>Latitude</th>\n",
       "      <th>Longitude</th>\n",
       "    </tr>\n",
       "    <tr>\n",
       "      <th>#</th>\n",
       "      <th></th>\n",
       "      <th></th>\n",
       "      <th></th>\n",
       "      <th></th>\n",
       "      <th></th>\n",
       "      <th></th>\n",
       "      <th></th>\n",
       "      <th></th>\n",
       "    </tr>\n",
       "  </thead>\n",
       "  <tbody>\n",
       "    <tr>\n",
       "      <th>0</th>\n",
       "      <td>10/10/1949 20:30</td>\n",
       "      <td>San Marcos</td>\n",
       "      <td>TX</td>\n",
       "      <td>US</td>\n",
       "      <td>cylinder</td>\n",
       "      <td>2700.0</td>\n",
       "      <td>29.883056</td>\n",
       "      <td>-97.941111</td>\n",
       "    </tr>\n",
       "    <tr>\n",
       "      <th>3</th>\n",
       "      <td>10/10/1956 21:00</td>\n",
       "      <td>Edna</td>\n",
       "      <td>TX</td>\n",
       "      <td>US</td>\n",
       "      <td>circle</td>\n",
       "      <td>20.0</td>\n",
       "      <td>28.978333</td>\n",
       "      <td>-96.645833</td>\n",
       "    </tr>\n",
       "    <tr>\n",
       "      <th>4</th>\n",
       "      <td>10/10/1960 20:00</td>\n",
       "      <td>Kaneohe</td>\n",
       "      <td>HI</td>\n",
       "      <td>US</td>\n",
       "      <td>light</td>\n",
       "      <td>900.0</td>\n",
       "      <td>21.418056</td>\n",
       "      <td>-157.803611</td>\n",
       "    </tr>\n",
       "    <tr>\n",
       "      <th>5</th>\n",
       "      <td>10/10/1961 19:00</td>\n",
       "      <td>Bristol</td>\n",
       "      <td>TN</td>\n",
       "      <td>US</td>\n",
       "      <td>sphere</td>\n",
       "      <td>300.0</td>\n",
       "      <td>36.595000</td>\n",
       "      <td>-82.188889</td>\n",
       "    </tr>\n",
       "    <tr>\n",
       "      <th>7</th>\n",
       "      <td>10/10/1965 23:45</td>\n",
       "      <td>Norwalk</td>\n",
       "      <td>CT</td>\n",
       "      <td>US</td>\n",
       "      <td>disk</td>\n",
       "      <td>1200.0</td>\n",
       "      <td>41.117500</td>\n",
       "      <td>-73.408333</td>\n",
       "    </tr>\n",
       "  </tbody>\n",
       "</table>\n",
       "</div>"
      ],
      "text/plain": [
       "          Date_Time        City State/Province Country UFO_Shape  \\\n",
       "#                                                                  \n",
       "0  10/10/1949 20:30  San Marcos             TX      US  cylinder   \n",
       "3  10/10/1956 21:00        Edna             TX      US    circle   \n",
       "4  10/10/1960 20:00     Kaneohe             HI      US     light   \n",
       "5  10/10/1961 19:00     Bristol             TN      US    sphere   \n",
       "7  10/10/1965 23:45     Norwalk             CT      US      disk   \n",
       "\n",
       "   Length_of_Encounter   Latitude   Longitude  \n",
       "#                                              \n",
       "0               2700.0  29.883056  -97.941111  \n",
       "3                 20.0  28.978333  -96.645833  \n",
       "4                900.0  21.418056 -157.803611  \n",
       "5                300.0  36.595000  -82.188889  \n",
       "7               1200.0  41.117500  -73.408333  "
      ]
     },
     "execution_count": 16,
     "metadata": {},
     "output_type": "execute_result"
    }
   ],
   "source": [
    "filtered_df = nonnull_df.drop([\"Described_Duration\",\"Description\", \"Date_Documented\"], axis=1)\n",
    "filtered_df.head()"
   ]
  },
  {
   "cell_type": "markdown",
   "metadata": {},
   "source": [
    "### As a Data Analyst, I want to convert the `Date_Time` column to Pandas' DateTime data type"
   ]
  },
  {
   "cell_type": "code",
   "execution_count": 17,
   "metadata": {},
   "outputs": [
    {
     "name": "stdout",
     "output_type": "stream",
     "text": [
      "<class 'pandas.core.frame.DataFrame'>\n",
      "Int64Index: 53562 entries, 0 to 65535\n",
      "Data columns (total 8 columns):\n",
      " #   Column               Non-Null Count  Dtype         \n",
      "---  ------               --------------  -----         \n",
      " 0   Date_Time            53562 non-null  datetime64[ns]\n",
      " 1   City                 53562 non-null  object        \n",
      " 2   State/Province       53562 non-null  object        \n",
      " 3   Country              53562 non-null  object        \n",
      " 4   UFO_Shape            53562 non-null  object        \n",
      " 5   Length_of_Encounter  53562 non-null  float64       \n",
      " 6   Latitude             53562 non-null  float64       \n",
      " 7   Longitude            53562 non-null  float64       \n",
      "dtypes: datetime64[ns](1), float64(3), object(4)\n",
      "memory usage: 3.7+ MB\n"
     ]
    }
   ],
   "source": [
    "filtered_df[\"Date_Time\"] = pd.to_datetime(filtered_df[\"Date_Time\"])\n",
    "filtered_df.info()"
   ]
  },
  {
   "cell_type": "markdown",
   "metadata": {},
   "source": [
    "## Visualization with MatPlotLib"
   ]
  },
  {
   "cell_type": "markdown",
   "metadata": {},
   "source": [
    "### As a Data Analyst, I want to visualize the **frequency of different UFO shapes**, to determine which UFO shapes are most commonly encountered\n",
    "* I will use a **MatPlotLib Bar Graph** to visualize this data\n",
    "* I will name this chart **UFO Shape Frequency**"
   ]
  },
  {
   "cell_type": "code",
   "execution_count": 26,
   "metadata": {},
   "outputs": [
    {
     "data": {
      "text/plain": [
       "Text(0.5, 1.0, 'UFO Shape Frequency')"
      ]
     },
     "execution_count": 26,
     "metadata": {},
     "output_type": "execute_result"
    },
    {
     "data": {
      "image/png": "[encoded data removed]",
      "text/plain": [
       "<Figure size 432x288 with 1 Axes>"
      ]
     },
     "metadata": {
      "needs_background": "light"
     },
     "output_type": "display_data"
    }
   ],
   "source": [
    "filtered_df.nunique()\n",
    "shape_count = filtered_df[\"UFO_Shape\"].value_counts()\n",
    "shape_count\n",
    "ufo_shape_plot = shape_count.plot(kind='bar')\n",
    "ufo_shape_plot.set_title(\"UFO Shape Frequency\")"
   ]
  },
  {
   "cell_type": "markdown",
   "metadata": {},
   "source": [
    "### As a Data Analyst, I want to create a **Pie Chart** to visualize the **percentage breakdown of sightings, by country**"
   ]
  },
  {
   "cell_type": "code",
   "execution_count": 19,
   "metadata": {},
   "outputs": [
    {
     "name": "stdout",
     "output_type": "stream",
     "text": [
      "AU        8\n",
      "CA     2207\n",
      "GB        8\n",
      "US    51339\n",
      "Name: Country, dtype: int64\n"
     ]
    },
    {
     "data": {
      "image/png": "[encoded data removed]",
      "text/plain": [
       "<Figure size 432x288 with 1 Axes>"
      ]
     },
     "metadata": {},
     "output_type": "display_data"
    }
   ],
   "source": [
    "country_count = filtered_df[\"Country\"].value_counts().sort_index()\n",
    "print(country_count)\n",
    "fig, ax = plt.subplots(facecolor='white')\n",
    "country_pie = country_count.plot.pie(autopct='%1.1f%%', startangle=130, explode=(0,0.5,0,0))\n",
    "country_pie.set_title(\"Percentage of Sightings by Country\")\n",
    "plt.axis('equal')\n",
    "plt.tight_layout()\n",
    "#country_count\n"
   ]
  },
  {
   "cell_type": "markdown",
   "metadata": {},
   "source": [
    "### As a Data Analyst, I want to use a **box plot** to visualize the distribution of `Length_of_Encounter` in relation to **day of the week**\n",
    "* This will require creating a new column of the corresponding day from the `Date_Time` column\n",
    "* `Length_of_Encounter` represents time in **seconds**\n",
    "* Use the flag `showfliers=False` to ignore any outliers in the data distribution"
   ]
  },
  {
   "cell_type": "code",
   "execution_count": 20,
   "metadata": {},
   "outputs": [
    {
     "data": {
      "text/plain": [
       "<AxesSubplot:title={'center':'Length_of_Encounter'}, xlabel='Day'>"
      ]
     },
     "execution_count": 20,
     "metadata": {},
     "output_type": "execute_result"
    },
    {
     "data": {
      "image/png": "[encoded data removed]",
      "text/plain": [
       "<Figure size 432x288 with 1 Axes>"
      ]
     },
     "metadata": {
      "needs_background": "light"
     },
     "output_type": "display_data"
    }
   ],
   "source": [
    "filtered_df[\"Day\"] = filtered_df[\"Date_Time\"].dt.day_name()\n",
    "box_plot = filtered_df.boxplot(by=\"Day\", column=[\"Length_of_Encounter\"], showfliers=False) #showfliers flag allows us to ignore outliers in data\n",
    "box_plot"
   ]
  },
  {
   "cell_type": "markdown",
   "metadata": {},
   "source": [
    "### As a Data Analyst, I want to use a **Bar Graph** to visualize the **Number of Encounters** that occurred on each day of the week"
   ]
  },
  {
   "cell_type": "code",
   "execution_count": 21,
   "metadata": {},
   "outputs": [
    {
     "data": {
      "text/plain": [
       "<AxesSubplot:>"
      ]
     },
     "execution_count": 21,
     "metadata": {},
     "output_type": "execute_result"
    },
    {
     "data": {
      "image/png": "[encoded data removed]",
      "text/plain": [
       "<Figure size 432x288 with 1 Axes>"
      ]
     },
     "metadata": {
      "needs_background": "light"
     },
     "output_type": "display_data"
    }
   ],
   "source": [
    "filtered_df[\"Day\"].value_counts().plot(kind=\"bar\")"
   ]
  },
  {
   "cell_type": "markdown",
   "metadata": {},
   "source": [
    "### As a Data Analyst, I want to use a **Bar Graph** to visualize the **number of encounters**, grouped by each decade"
   ]
  },
  {
   "cell_type": "code",
   "execution_count": 22,
   "metadata": {},
   "outputs": [
    {
     "name": "stdout",
     "output_type": "stream",
     "text": [
      "2000    25487\n",
      "2010    18479\n",
      "1990     5475\n",
      "1970     1549\n",
      "1980     1344\n",
      "1960      867\n",
      "1950      287\n",
      "1940       64\n",
      "1930        6\n",
      "1920        3\n",
      "1910        1\n",
      "Name: Decade, dtype: int64\n"
     ]
    },
    {
     "data": {
      "text/plain": [
       "<AxesSubplot:>"
      ]
     },
     "execution_count": 22,
     "metadata": {},
     "output_type": "execute_result"
    },
    {
     "data": {
      "image/png": "[encoded data removed]",
      "text/plain": [
       "<Figure size 432x288 with 1 Axes>"
      ]
     },
     "metadata": {
      "needs_background": "light"
     },
     "output_type": "display_data"
    }
   ],
   "source": [
    "filtered_df[\"Year\"] = filtered_df[\"Date_Time\"].dt.year #Create new series of Year of Encounter\n",
    "filtered_df[\"Decade\"] = (10 * (filtered_df[\"Year\"] // 10)) #.astype(str) + \"'s\"\n",
    "print(filtered_df[\"Decade\"].value_counts())\n",
    "decade_bar_plot = filtered_df[\"Decade\"].value_counts().plot(kind=\"bar\")\n",
    "decade_bar_plot.bar_label(decade_bar_plot.containers[0])\n",
    "decade_bar_plot"
   ]
  },
  {
   "cell_type": "markdown",
   "metadata": {},
   "source": [
    "### As a Data Analyst, I want to create a **Stacked Bar Graph** using MatPlotLib to display the frequency of **different UFO shape sightings for the top 3 US state with the highest number of sightings**"
   ]
  },
  {
   "cell_type": "code",
   "execution_count": 27,
   "metadata": {},
   "outputs": [
    {
     "data": {
      "text/plain": [
       "<AxesSubplot:>"
      ]
     },
     "execution_count": 27,
     "metadata": {},
     "output_type": "execute_result"
    },
    {
     "data": {
      "image/png": "[encoded data removed]",
      "text/plain": [
       "<Figure size 432x288 with 1 Axes>"
      ]
     },
     "metadata": {
      "needs_background": "light"
     },
     "output_type": "display_data"
    }
   ],
   "source": [
    "# First group by State/Province, and find the highest count\n",
    "filtered_df[\"State/Province\"].value_counts()\n",
    "# Highest frequency is CA with 7135 sightings, followed by FL with 3258, then WA with 2894\n",
    "# Need to wrap query in backticks as it has a / in the name\n",
    "california = filtered_df.query('`State/Province` == \"CA\"')\n",
    "ca_counts = california[\"UFO_Shape\"].value_counts()\n",
    "ca_counts.name = \"CA\"\n",
    "\n",
    "\n",
    "florida = filtered_df.query('`State/Province` == \"FL\"')\n",
    "fl_counts = florida[\"UFO_Shape\"].value_counts()\n",
    "fl_counts.name = \"FL\"\n",
    "\n",
    "washington = filtered_df.query('`State/Province` == \"WA\"')\n",
    "wa_counts = washington[\"UFO_Shape\"].value_counts()\n",
    "wa_counts.name = \"WA\"\n",
    "\n",
    "top_three_df = pd.concat([ca_counts, fl_counts, wa_counts], axis=1)\n",
    "top_three_df.plot(kind=\"bar\")\n",
    "# X axis as shape of UFO, Y axis as number of value counts for each, for each state\n",
    "# New DF, shape as index, state as column, value as frequency of that shape (value count)\n"
   ]
  },
  {
   "cell_type": "markdown",
   "metadata": {},
   "source": [
    "### As a Data Analyst, I want to create another **Bar Graph** to represent the percentage breakdown of `UFO_Shape` for the countries `US` and `CA`"
   ]
  },
  {
   "cell_type": "code",
   "execution_count": 49,
   "metadata": {},
   "outputs": [
    {
     "data": {
      "text/plain": [
       "Text(0.5, 1.0, 'Percentage of UFO Shape Sightings for US & Canada')"
      ]
     },
     "execution_count": 49,
     "metadata": {},
     "output_type": "execute_result"
    },
    {
     "data": {
      "image/png": "[encoded data removed]",
      "text/plain": [
       "<Figure size 432x288 with 1 Axes>"
      ]
     },
     "metadata": {
      "needs_background": "light"
     },
     "output_type": "display_data"
    }
   ],
   "source": [
    "# Filter for just US and CA countries\n",
    "# Group by value counts for UFO_Shape, using normalization to get percentage value\n",
    "# Chart in a bar graph\n",
    "na_sightings = filtered_df.query(\"`Country` == ['US','CA']\")\n",
    "na_sightings[\"Country\"].value_counts() #Verifying query was successful\n",
    "\n",
    "# Getting US sightings\n",
    "us = filtered_df.query('`Country` == \"US\"')\n",
    "us_counts = (us[\"UFO_Shape\"].value_counts(normalize=True) * 100)\n",
    "us_counts.name = \"U.S.\"\n",
    "# Getting CA Sightings\n",
    "canada = filtered_df.query('`Country` == \"CA\"')\n",
    "canada_counts = (canada[\"UFO_Shape\"].value_counts(normalize=True) * 100)\n",
    "canada_counts.name = \"Canada\"\n",
    "\n",
    "shapes_df = pd.concat([us_counts, canada_counts], axis=1)\n",
    "shapes_plot = shapes_df.plot(kind=\"bar\")\n",
    "shapes_plot.set_title(\"Percentage of UFO Shape Sightings for US & Canada\")"
   ]
  },
  {
   "cell_type": "markdown",
   "metadata": {},
   "source": [
    "### As a Data Analyst, I want to create a **Line Graph** to visualize the **Frequency of UFO sightings, by hour of the day**"
   ]
  },
  {
   "cell_type": "code",
   "execution_count": 112,
   "metadata": {},
   "outputs": [
    {
     "name": "stdout",
     "output_type": "stream",
     "text": [
      "Int64Index([ 0,  1,  2,  3,  4,  5,  6,  7,  8,  9, 10, 11, 12, 13, 14, 15, 16,\n",
      "            17, 18, 19, 20, 21, 22, 23],\n",
      "           dtype='int64')\n"
     ]
    },
    {
     "data": {
      "image/png": "[encoded data removed]",
      "text/plain": [
       "<Figure size 432x288 with 1 Axes>"
      ]
     },
     "metadata": {
      "needs_background": "light"
     },
     "output_type": "display_data"
    }
   ],
   "source": [
    "filtered_df.head()\n",
    "# Create new data frame, with index col as hour of day, \n",
    "plt.figure()\n",
    "filtered_df[\"Hour\"] = filtered_df[\"Date_Time\"].dt.hour\n",
    "series = filtered_df[\"Hour\"].value_counts().sort_index()\n",
    "plotted_hours = series.plot(kind=\"line\")\n",
    "plt.xticks(series.index, rotation='vertical')\n",
    "plotted_hours.set_title(\"Number of UFO Sightings, by Hour\")\n",
    "print(series.index)\n",
    "\n",
    "#Alternative approach, similar outcome\n",
    "#hour_df = filtered_df.groupby('Hour').size().plot()\n",
    "#hour_df.set_title(\"Number of UFO Sightings, by Hour\")"
   ]
  }
 ],
 "metadata": {
  "kernelspec": {
   "display_name": "Python 3.10.5 64-bit",
   "language": "python",
   "name": "python3"
  },
  "language_info": {
   "codemirror_mode": {
    "name": "ipython",
    "version": 3
   },
   "file_extension": ".py",
   "mimetype": "text/x-python",
   "name": "python",
   "nbconvert_exporter": "python",
   "pygments_lexer": "ipython3",
   "version": "3.10.5"
  },
  "orig_nbformat": 4,
  "vscode": {
   "interpreter": {
    "hash": "991b4f12e3cd7e62d84ec965b56412c4354ac1fe6297d96f50a80e713193dd77"
   }
  }
 },
 "nbformat": 4,
 "nbformat_minor": 2
}
