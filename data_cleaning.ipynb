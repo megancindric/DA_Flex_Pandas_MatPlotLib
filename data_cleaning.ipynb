{
 "cells": [
  {
   "cell_type": "code",
   "execution_count": 36,
   "metadata": {},
   "outputs": [
    {
     "name": "stdout",
     "output_type": "stream",
     "text": [
      "<class 'pandas.core.frame.DataFrame'>\n",
      "Int64Index: 64698 entries, 0 to 65535\n",
      "Data columns (total 11 columns):\n",
      " #   Column               Non-Null Count  Dtype  \n",
      "---  ------               --------------  -----  \n",
      " 0   Date_Time            64698 non-null  object \n",
      " 1   City                 64698 non-null  object \n",
      " 2   State/Province       59988 non-null  object \n",
      " 3   Country              56941 non-null  object \n",
      " 4   UFO_Shape            63139 non-null  object \n",
      " 5   Length_of_Encounter  64698 non-null  float64\n",
      " 6   Described_Duration   64698 non-null  object \n",
      " 7   Description          64683 non-null  object \n",
      " 8   Date_Documented      64698 non-null  object \n",
      " 9   Latitude             64698 non-null  float64\n",
      " 10  Longitude            64698 non-null  float64\n",
      "dtypes: float64(3), object(8)\n",
      "memory usage: 7.9+ MB\n"
     ]
    }
   ],
   "source": [
    "import pandas as pd\n",
    "df = pd.read_csv(\"ufo_sightings.csv\", index_col = \"#\")\n",
    "df.sort_values(\"Length_of_Encounter\",ascending=False).head(20)\n",
    "for x in df.index:\n",
    "    if df.loc[x, \"Length_of_Encounter\"] > 43200 or df.loc[x, \"Length_of_Encounter\"] < 0.5:\n",
    "        df.drop(x, inplace=True)\n",
    "df.info()"
   ]
  },
  {
   "cell_type": "markdown",
   "metadata": {},
   "source": [
    "#### Removing UFO shapes with low frequency for clearer analysis of data"
   ]
  },
  {
   "cell_type": "code",
   "execution_count": 40,
   "metadata": {},
   "outputs": [],
   "source": [
    "df = df.query(\"`UFO_Shape` != ['delta','round','crescent','pyramid','flare','hexagon','changed'] \")"
   ]
  },
  {
   "cell_type": "code",
   "execution_count": 41,
   "metadata": {},
   "outputs": [
    {
     "data": {
      "text/plain": [
       "light        13267\n",
       "triangle      6369\n",
       "circle        6143\n",
       "fireball      4965\n",
       "other         4570\n",
       "unknown       4478\n",
       "sphere        4349\n",
       "disk          4196\n",
       "oval          3053\n",
       "formation     2019\n",
       "cigar         1629\n",
       "changing      1589\n",
       "cylinder      1037\n",
       "flash         1033\n",
       "rectangle     1025\n",
       "diamond        958\n",
       "chevron        791\n",
       "egg            624\n",
       "teardrop       585\n",
       "cone           247\n",
       "cross          197\n",
       "Name: UFO_Shape, dtype: int64"
      ]
     },
     "execution_count": 41,
     "metadata": {},
     "output_type": "execute_result"
    }
   ],
   "source": [
    "df[\"UFO_Shape\"].value_counts()"
   ]
  },
  {
   "cell_type": "code",
   "execution_count": 42,
   "metadata": {},
   "outputs": [],
   "source": [
    "#df.sort_values(\"Length_of_Encounter\").head(20)\n",
    "df.to_csv(\"ufo_sightings1.csv\")"
   ]
  },
  {
   "cell_type": "code",
   "execution_count": 44,
   "metadata": {},
   "outputs": [
    {
     "data": {
      "text/html": [
       "<div>\n",
       "<style scoped>\n",
       "    .dataframe tbody tr th:only-of-type {\n",
       "        vertical-align: middle;\n",
       "    }\n",
       "\n",
       "    .dataframe tbody tr th {\n",
       "        vertical-align: top;\n",
       "    }\n",
       "\n",
       "    .dataframe thead th {\n",
       "        text-align: right;\n",
       "    }\n",
       "</style>\n",
       "<table border=\"1\" class=\"dataframe\">\n",
       "  <thead>\n",
       "    <tr style=\"text-align: right;\">\n",
       "      <th></th>\n",
       "      <th>Date_Time</th>\n",
       "      <th>City</th>\n",
       "      <th>State/Province</th>\n",
       "      <th>Country</th>\n",
       "      <th>UFO_Shape</th>\n",
       "      <th>Length_of_Encounter</th>\n",
       "      <th>Described_Duration</th>\n",
       "      <th>Description</th>\n",
       "      <th>Date_Documented</th>\n",
       "      <th>Latitude</th>\n",
       "      <th>Longitude</th>\n",
       "    </tr>\n",
       "    <tr>\n",
       "      <th>#</th>\n",
       "      <th></th>\n",
       "      <th></th>\n",
       "      <th></th>\n",
       "      <th></th>\n",
       "      <th></th>\n",
       "      <th></th>\n",
       "      <th></th>\n",
       "      <th></th>\n",
       "      <th></th>\n",
       "      <th></th>\n",
       "      <th></th>\n",
       "    </tr>\n",
       "  </thead>\n",
       "  <tbody>\n",
       "    <tr>\n",
       "      <th>0</th>\n",
       "      <td>10/10/1949 20:30</td>\n",
       "      <td>San Marcos</td>\n",
       "      <td>TX</td>\n",
       "      <td>US</td>\n",
       "      <td>cylinder</td>\n",
       "      <td>2700.0</td>\n",
       "      <td>45 minutes</td>\n",
       "      <td>This event took place in early fall around 194...</td>\n",
       "      <td>4/27/2004</td>\n",
       "      <td>29.883056</td>\n",
       "      <td>-97.941111</td>\n",
       "    </tr>\n",
       "    <tr>\n",
       "      <th>1</th>\n",
       "      <td>10/10/1949 21:00</td>\n",
       "      <td>Lackland Afb</td>\n",
       "      <td>TX</td>\n",
       "      <td>NaN</td>\n",
       "      <td>light</td>\n",
       "      <td>7200.0</td>\n",
       "      <td>1-2 hrs</td>\n",
       "      <td>1949 Lackland AFB&amp;#44 TX.  Lights racing acros...</td>\n",
       "      <td>12/16/2005</td>\n",
       "      <td>29.384210</td>\n",
       "      <td>-98.581082</td>\n",
       "    </tr>\n",
       "    <tr>\n",
       "      <th>2</th>\n",
       "      <td>10/10/1955 17:00</td>\n",
       "      <td>Chester (Uk/England)</td>\n",
       "      <td>NaN</td>\n",
       "      <td>GB</td>\n",
       "      <td>circle</td>\n",
       "      <td>20.0</td>\n",
       "      <td>20 seconds</td>\n",
       "      <td>Green/Orange circular disc over Chester&amp;#44 En...</td>\n",
       "      <td>1/21/2008</td>\n",
       "      <td>53.200000</td>\n",
       "      <td>-2.916667</td>\n",
       "    </tr>\n",
       "    <tr>\n",
       "      <th>3</th>\n",
       "      <td>10/10/1956 21:00</td>\n",
       "      <td>Edna</td>\n",
       "      <td>TX</td>\n",
       "      <td>US</td>\n",
       "      <td>circle</td>\n",
       "      <td>20.0</td>\n",
       "      <td>1/2 hour</td>\n",
       "      <td>My older brother and twin sister were leaving ...</td>\n",
       "      <td>1/17/2004</td>\n",
       "      <td>28.978333</td>\n",
       "      <td>-96.645833</td>\n",
       "    </tr>\n",
       "    <tr>\n",
       "      <th>4</th>\n",
       "      <td>10/10/1960 20:00</td>\n",
       "      <td>Kaneohe</td>\n",
       "      <td>HI</td>\n",
       "      <td>US</td>\n",
       "      <td>light</td>\n",
       "      <td>900.0</td>\n",
       "      <td>15 minutes</td>\n",
       "      <td>AS a Marine 1st Lt. flying an FJ4B fighter/att...</td>\n",
       "      <td>1/22/2004</td>\n",
       "      <td>21.418056</td>\n",
       "      <td>-157.803611</td>\n",
       "    </tr>\n",
       "  </tbody>\n",
       "</table>\n",
       "</div>"
      ],
      "text/plain": [
       "          Date_Time                  City State/Province Country UFO_Shape  \\\n",
       "#                                                                            \n",
       "0  10/10/1949 20:30            San Marcos             TX      US  cylinder   \n",
       "1  10/10/1949 21:00          Lackland Afb             TX     NaN     light   \n",
       "2  10/10/1955 17:00  Chester (Uk/England)            NaN      GB    circle   \n",
       "3  10/10/1956 21:00                  Edna             TX      US    circle   \n",
       "4  10/10/1960 20:00               Kaneohe             HI      US     light   \n",
       "\n",
       "   Length_of_Encounter Described_Duration  \\\n",
       "#                                           \n",
       "0               2700.0         45 minutes   \n",
       "1               7200.0            1-2 hrs   \n",
       "2                 20.0         20 seconds   \n",
       "3                 20.0           1/2 hour   \n",
       "4                900.0         15 minutes   \n",
       "\n",
       "                                         Description Date_Documented  \\\n",
       "#                                                                      \n",
       "0  This event took place in early fall around 194...       4/27/2004   \n",
       "1  1949 Lackland AFB&#44 TX.  Lights racing acros...      12/16/2005   \n",
       "2  Green/Orange circular disc over Chester&#44 En...       1/21/2008   \n",
       "3  My older brother and twin sister were leaving ...       1/17/2004   \n",
       "4  AS a Marine 1st Lt. flying an FJ4B fighter/att...       1/22/2004   \n",
       "\n",
       "    Latitude   Longitude  \n",
       "#                         \n",
       "0  29.883056  -97.941111  \n",
       "1  29.384210  -98.581082  \n",
       "2  53.200000   -2.916667  \n",
       "3  28.978333  -96.645833  \n",
       "4  21.418056 -157.803611  "
      ]
     },
     "execution_count": 44,
     "metadata": {},
     "output_type": "execute_result"
    }
   ],
   "source": [
    "new_df = pd.read_csv(\"ufo_sightings1.csv\", index_col=\"#\")\n",
    "new_df.head()"
   ]
  }
 ],
 "metadata": {
  "kernelspec": {
   "display_name": "Python 3.10.5 64-bit",
   "language": "python",
   "name": "python3"
  },
  "language_info": {
   "codemirror_mode": {
    "name": "ipython",
    "version": 3
   },
   "file_extension": ".py",
   "mimetype": "text/x-python",
   "name": "python",
   "nbconvert_exporter": "python",
   "pygments_lexer": "ipython3",
   "version": "3.10.5"
  },
  "orig_nbformat": 4,
  "vscode": {
   "interpreter": {
    "hash": "991b4f12e3cd7e62d84ec965b56412c4354ac1fe6297d96f50a80e713193dd77"
   }
  }
 },
 "nbformat": 4,
 "nbformat_minor": 2
}
